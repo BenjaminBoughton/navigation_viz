{
 "cells": [
  {
   "cell_type": "markdown",
   "metadata": {},
   "source": [
    "# Geocode Exploration"
   ]
  },
  {
   "cell_type": "markdown",
   "metadata": {},
   "source": [
    "* Goal: Can I specify a location and then get the longitude and latitude I need?\n",
    "\n",
    "### PoC: Addresses mom and dad have lived at\n",
    "1. 785 Ivy Glendale\n",
    "2. Ridgeway Avenue\n",
    "3. Peppermil Lane\n",
    "4. Caracas at La Vista\n",
    "5. Trailbridge Drive"
   ]
  },
  {
   "cell_type": "code",
   "execution_count": null,
   "metadata": {},
   "outputs": [],
   "source": []
  },
  {
   "cell_type": "code",
   "execution_count": 96,
   "metadata": {},
   "outputs": [],
   "source": [
    "#libraries\n",
    "import pandas as pd\n",
    "import geopy\n",
    "from geopy import geocoders\n",
    "from geopy.geocoders import Nominatim\n",
    "import folium\n",
    "from folium import plugins\n",
    "\n"
   ]
  },
  {
   "cell_type": "code",
   "execution_count": 4,
   "metadata": {},
   "outputs": [],
   "source": [
    "#Initialize with username\n",
    "gn = geocoders.GeoNames(username = 'BenjaminBoughton')\n",
    "\n",
    "geolocator = Nominatim(user_agent = 'Nav_app')"
   ]
  },
  {
   "cell_type": "code",
   "execution_count": 56,
   "metadata": {},
   "outputs": [],
   "source": [
    "\n",
    "\n",
    "\n",
    "\n"
   ]
  },
  {
   "cell_type": "code",
   "execution_count": null,
   "metadata": {},
   "outputs": [],
   "source": [
    "\n",
    "\n",
    "\n",
    "\n"
   ]
  },
  {
   "cell_type": "code",
   "execution_count": 144,
   "metadata": {},
   "outputs": [
    {
     "data": {
      "text/plain": [
       "Location(UE Cochabamba Cooperative School - Calvert, Calle Vaticano, Mesadilla, Distrito 1, Tunari, Cochabamba, Kanata, Cercado, Cochabamba, 538, Bolivia, (-17.370959300000003, -66.13233570762681, 0.0))"
      ]
     },
     "execution_count": 144,
     "metadata": {},
     "output_type": "execute_result"
    }
   ],
   "source": [
    "current_location = geolocator.geocode('calvert cochabamba bolivia')\n",
    "current_location\n",
    "\n"
   ]
  },
  {
   "cell_type": "code",
   "execution_count": 145,
   "metadata": {},
   "outputs": [],
   "source": [
    "# First there will be a prompt for locations - so these will be known ahead of time before constructing df\n",
    "locations = ['calvert cochabamba bolivia']\n",
    "\n",
    "\n",
    "locations_df = pd.DataFrame(columns = ['Region', 'Name', 'Longitude', 'Latitude'], \n",
    "                            index = [i for i in range(0, len(locations))])\n",
    "\n",
    "\n",
    "\n",
    "#Populate df with geocode\n",
    "for i in range(0, len(locations_df)):\n",
    "    current_location = geolocator.geocode(locations[i])\n",
    "    \n",
    "    \n",
    "    region = current_location.address.split(',')[-1].lstrip()\n",
    "    name = current_location.address\n",
    "    longitude = current_location.longitude\n",
    "    latitude = current_location.latitude\n",
    "    \n",
    "    \n",
    "    \n",
    "    locations_df.loc[i, 'Region'] = region\n",
    "    locations_df.loc[i, 'Name'] = name\n",
    "    locations_df.loc[i, 'Longitude'] = longitude\n",
    "    locations_df.loc[i, 'Latitude'] = latitude\n",
    "\n",
    "    "
   ]
  },
  {
   "cell_type": "code",
   "execution_count": null,
   "metadata": {},
   "outputs": [],
   "source": [
    "\n",
    "\n",
    "\n",
    "\n"
   ]
  },
  {
   "cell_type": "code",
   "execution_count": 146,
   "metadata": {},
   "outputs": [],
   "source": [
    "#Now we have our df - let's build the map we need!\n",
    "\n",
    "locations_df.reset_index(drop=False, inplace=True)\n",
    "locations_df.rename(columns={'index': 'icon_num'}, inplace=True)\n",
    "locations_df['icon_num'] = locations_df['icon_num'] + 1\n",
    "long_mean = locations_df['Longitude'].mean()\n",
    "lat_mean = locations_df['Latitude'].mean()\n",
    "\n",
    "#Need list of lists of long lats\n",
    "longitudes = [long for long in locations_df['Longitude']]\n",
    "latitudes = [lat for lat in locations_df['Latitude']]\n",
    "\n",
    "long_lats = [[latitudes[i], longitudes[i]] for i in range(0, len(longitudes))]\n"
   ]
  },
  {
   "cell_type": "code",
   "execution_count": 147,
   "metadata": {},
   "outputs": [],
   "source": [
    "#Initial map creation\n",
    "map_plot_route = folium.Map(location = [lat_mean, long_mean], zoom_start = 14, tiles='CartoDB positron')\n",
    "\n",
    "#Markers\n",
    "locations_df.apply(lambda row: folium.Marker(location = [row['Latitude'], row['Longitude']],\n",
    "                                         popup=row['Name'],\n",
    "                                         icon=plugins.BeautifyIcon(number = row['icon_num'],\n",
    "                                                                  border_color='transparent',\n",
    "                                                                  border_width =0.5,\n",
    "                                                                  text_color='#A12830',\n",
    "                                                                  inner_icon_style = 'font-size:20px;margin:0px;')).add_to(map_plot_route), axis=1)\n",
    "\n",
    "\n",
    "#Route\n",
    "folium.PolyLine(long_lats).add_to(map_plot_route)\n",
    "\n",
    "#Save as html\n",
    "map_plot_route.save('map.html')\n",
    "\n",
    "\n"
   ]
  },
  {
   "cell_type": "code",
   "execution_count": 148,
   "metadata": {},
   "outputs": [
    {
     "data": {
      "text/html": [
       "<div style=\"width:100%;\"><div style=\"position:relative;width:100%;height:0;padding-bottom:60%;\"><span style=\"color:#565656\">Make this Notebook Trusted to load map: File -> Trust Notebook</span><iframe src=\"about:blank\" style=\"position:absolute;width:100%;height:100%;left:0;top:0;border:none !important;\" data-html=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 onload=\"this.contentDocument.open();this.contentDocument.write(atob(this.getAttribute('data-html')));this.contentDocument.close();\" allowfullscreen webkitallowfullscreen mozallowfullscreen></iframe></div></div>"
      ],
      "text/plain": [
       "<folium.folium.Map at 0x128cdab50>"
      ]
     },
     "execution_count": 148,
     "metadata": {},
     "output_type": "execute_result"
    }
   ],
   "source": [
    "\n",
    "\n",
    "\n",
    "map_plot_route\n",
    "\n"
   ]
  },
  {
   "cell_type": "code",
   "execution_count": null,
   "metadata": {},
   "outputs": [],
   "source": []
  },
  {
   "cell_type": "code",
   "execution_count": null,
   "metadata": {},
   "outputs": [],
   "source": []
  },
  {
   "cell_type": "code",
   "execution_count": null,
   "metadata": {},
   "outputs": [],
   "source": []
  },
  {
   "cell_type": "code",
   "execution_count": null,
   "metadata": {},
   "outputs": [],
   "source": []
  }
 ],
 "metadata": {
  "kernelspec": {
   "display_name": "Python 3",
   "language": "python",
   "name": "python3"
  },
  "language_info": {
   "codemirror_mode": {
    "name": "ipython",
    "version": 3
   },
   "file_extension": ".py",
   "mimetype": "text/x-python",
   "name": "python",
   "nbconvert_exporter": "python",
   "pygments_lexer": "ipython3",
   "version": "3.7.4"
  }
 },
 "nbformat": 4,
 "nbformat_minor": 4
}
