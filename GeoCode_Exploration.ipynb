{
 "cells": [
  {
   "cell_type": "markdown",
   "metadata": {},
   "source": [
    "# Geocode Exploration"
   ]
  },
  {
   "cell_type": "markdown",
   "metadata": {},
   "source": [
    "* Goal: Can I specify a location and then get the longitude and latitude I need?\n",
    "\n",
    "### PoC: Addresses mom and dad have lived at\n",
    "1. 785 Ivy Glendale\n",
    "2. Ridgeway Avenue\n",
    "3. Peppermil Lane\n",
    "4. Caracas at La Vista\n",
    "5. Trailbridge Drive"
   ]
  },
  {
   "cell_type": "code",
   "execution_count": null,
   "metadata": {},
   "outputs": [],
   "source": [
    "#libraries\n",
    "import pandas as pd\n",
    "import geopy\n",
    "from geopy import geocoders\n",
    "from geopy.geocoders import Nominatim\n",
    "import folium\n",
    "from folium import plugins\n",
    "\n"
   ]
  },
  {
   "cell_type": "code",
   "execution_count": null,
   "metadata": {},
   "outputs": [],
   "source": [
    "#Initialize with username\n",
    "gn = geocoders.GeoNames(username = 'BenjaminBoughton')\n",
    "\n",
    "geolocator = Nominatim(user_agent = 'Nav_app')"
   ]
  },
  {
   "cell_type": "markdown",
   "metadata": {},
   "source": [
    "## Examples\n",
    "\n",
    "\n",
    "\n"
   ]
  },
  {
   "cell_type": "code",
   "execution_count": null,
   "metadata": {},
   "outputs": [],
   "source": [
    "#Reverse geolocator - great for TI!\n",
    "geolocator.reverse(\"45.565411, -80.458069\")\n",
    "\n"
   ]
  },
  {
   "cell_type": "code",
   "execution_count": null,
   "metadata": {},
   "outputs": [],
   "source": [
    "#More than one result\n",
    "geolocator.geocode('Trailbridge', exactly_one=False, language=\"en\")\n",
    "\n"
   ]
  },
  {
   "cell_type": "code",
   "execution_count": 171,
   "metadata": {},
   "outputs": [
    {
     "data": {
      "text/plain": [
       "[Location(Crossroads, Makkha Santi, Ban Mai, Mae Hong Son, Mae Hong Son Province, 58000, Thailand, (19.30198795, 97.96531352429733, 0.0))]"
      ]
     },
     "execution_count": 171,
     "metadata": {},
     "output_type": "execute_result"
    }
   ],
   "source": [
    "#English result otherwise in another language\n",
    "geolocator.geocode('Crossroads Mae Hong Son', exactly_one=False, language=\"en\")\n",
    "\n"
   ]
  },
  {
   "cell_type": "code",
   "execution_count": null,
   "metadata": {},
   "outputs": [],
   "source": [
    "current_location = geolocator.geocode('calvert cochabamba bolivia')\n",
    "current_location\n",
    "\n"
   ]
  },
  {
   "cell_type": "code",
   "execution_count": null,
   "metadata": {},
   "outputs": [],
   "source": [
    "# First there will be a prompt for locations - so these will be known ahead of time before constructing df\n",
    "locations = ['calvert cochabamba bolivia']\n",
    "\n",
    "\n",
    "locations_df = pd.DataFrame(columns = ['Region', 'Name', 'Longitude', 'Latitude'], \n",
    "                            index = [i for i in range(0, len(locations))])\n",
    "\n",
    "\n",
    "\n",
    "#Populate df with geocode\n",
    "for i in range(0, len(locations_df)):\n",
    "    current_location = geolocator.geocode(locations[i])\n",
    "    \n",
    "    \n",
    "    region = current_location.address.split(',')[-1].lstrip()\n",
    "    name = current_location.address\n",
    "    longitude = current_location.longitude\n",
    "    latitude = current_location.latitude\n",
    "    \n",
    "    \n",
    "    \n",
    "    locations_df.loc[i, 'Region'] = region\n",
    "    locations_df.loc[i, 'Name'] = name\n",
    "    locations_df.loc[i, 'Longitude'] = longitude\n",
    "    locations_df.loc[i, 'Latitude'] = latitude\n",
    "\n",
    "    "
   ]
  },
  {
   "cell_type": "code",
   "execution_count": null,
   "metadata": {},
   "outputs": [],
   "source": [
    "\n",
    "\n",
    "\n",
    "\n"
   ]
  },
  {
   "cell_type": "code",
   "execution_count": null,
   "metadata": {},
   "outputs": [],
   "source": [
    "#Now we have our df - let's build the map we need!\n",
    "\n",
    "locations_df.reset_index(drop=False, inplace=True)\n",
    "locations_df.rename(columns={'index': 'icon_num'}, inplace=True)\n",
    "locations_df['icon_num'] = locations_df['icon_num'] + 1\n",
    "long_mean = locations_df['Longitude'].mean()\n",
    "lat_mean = locations_df['Latitude'].mean()\n",
    "\n",
    "#Need list of lists of long lats\n",
    "longitudes = [long for long in locations_df['Longitude']]\n",
    "latitudes = [lat for lat in locations_df['Latitude']]\n",
    "\n",
    "long_lats = [[latitudes[i], longitudes[i]] for i in range(0, len(longitudes))]\n"
   ]
  },
  {
   "cell_type": "code",
   "execution_count": null,
   "metadata": {},
   "outputs": [],
   "source": [
    "#Initial map creation\n",
    "map_plot_route = folium.Map(location = [lat_mean, long_mean], zoom_start = 14, tiles='CartoDB positron')\n",
    "\n",
    "#Markers\n",
    "locations_df.apply(lambda row: folium.Marker(location = [row['Latitude'], row['Longitude']],\n",
    "                                         popup=row['Name'],\n",
    "                                         icon=plugins.BeautifyIcon(number = row['icon_num'],\n",
    "                                                                  border_color='transparent',\n",
    "                                                                  border_width =0.5,\n",
    "                                                                  text_color='#A12830',\n",
    "                                                                  inner_icon_style = 'font-size:20px;margin:0px;')).add_to(map_plot_route), axis=1)\n",
    "\n",
    "\n",
    "#Route\n",
    "folium.PolyLine(long_lats).add_to(map_plot_route)\n",
    "\n",
    "#Save as html\n",
    "map_plot_route.save('map.html')\n",
    "\n",
    "\n"
   ]
  },
  {
   "cell_type": "code",
   "execution_count": null,
   "metadata": {},
   "outputs": [],
   "source": [
    "\n",
    "\n",
    "\n",
    "map_plot_route\n",
    "\n"
   ]
  },
  {
   "cell_type": "code",
   "execution_count": null,
   "metadata": {},
   "outputs": [],
   "source": []
  },
  {
   "cell_type": "code",
   "execution_count": null,
   "metadata": {},
   "outputs": [],
   "source": []
  },
  {
   "cell_type": "code",
   "execution_count": null,
   "metadata": {},
   "outputs": [],
   "source": []
  },
  {
   "cell_type": "code",
   "execution_count": null,
   "metadata": {},
   "outputs": [],
   "source": []
  }
 ],
 "metadata": {
  "kernelspec": {
   "display_name": "Python 3",
   "language": "python",
   "name": "python3"
  },
  "language_info": {
   "codemirror_mode": {
    "name": "ipython",
    "version": 3
   },
   "file_extension": ".py",
   "mimetype": "text/x-python",
   "name": "python",
   "nbconvert_exporter": "python",
   "pygments_lexer": "ipython3",
   "version": "3.7.4"
  }
 },
 "nbformat": 4,
 "nbformat_minor": 4
}
