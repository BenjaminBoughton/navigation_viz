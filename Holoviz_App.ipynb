{
 "cells": [
  {
   "cell_type": "code",
   "execution_count": 7,
   "metadata": {},
   "outputs": [],
   "source": [
    "#libraries\n",
    "import pandas as pd\n",
    "import geopy\n",
    "from geopy import geocoders\n",
    "from geopy.geocoders import Nominatim\n",
    "import folium\n",
    "from folium import plugins\n",
    "\n",
    "#Holoviz time\n",
    "import hvplot\n",
    "import hvplot.pandas\n",
    "import panel as pn\n",
    "import holoviews.plotting.bokeh\n",
    "import holoviews as hv\n",
    "from holoviews import opts\n",
    "import param\n",
    "\n",
    "#Image export\n",
    "import io\n",
    "from PIL import Image\n",
    "import selenium\n",
    "import imgkit"
   ]
  },
  {
   "cell_type": "code",
   "execution_count": null,
   "metadata": {},
   "outputs": [],
   "source": []
  },
  {
   "cell_type": "code",
   "execution_count": 2,
   "metadata": {},
   "outputs": [],
   "source": [
    "#Initialize with username\n",
    "gn = geocoders.GeoNames(username = 'BenjaminBoughton')\n",
    "geolocator = Nominatim(user_agent = 'Nav_app')\n",
    "\n"
   ]
  },
  {
   "cell_type": "code",
   "execution_count": 3,
   "metadata": {},
   "outputs": [],
   "source": [
    "#General helper functions\n",
    "def build_locations_df(user_locations):\n",
    "    # First there will be a prompt for locations - so these will be known ahead of time before constructing df\n",
    "\n",
    "\n",
    "\n",
    "    locations_df = pd.DataFrame(columns = ['Region', 'Name', 'Longitude', 'Latitude'], \n",
    "                            index = [i for i in range(0, len(user_locations))])\n",
    "\n",
    "\n",
    "\n",
    "    #Populate df with geocode\n",
    "    for i in range(0, len(locations_df)):\n",
    "\n",
    "        current_location = geolocator.geocode(user_locations[i], language=\"en\")\n",
    "    \n",
    "        region = current_location.address.split(',')[-1].lstrip()\n",
    "        name = current_location.address\n",
    "        longitude = current_location.longitude\n",
    "        latitude = current_location.latitude\n",
    "    \n",
    "    \n",
    "        locations_df.loc[i, 'Region'] = region\n",
    "        locations_df.loc[i, 'Name'] = name\n",
    "        locations_df.loc[i, 'Longitude'] = longitude\n",
    "        locations_df.loc[i, 'Latitude'] = latitude\n",
    "\n",
    "    return locations_df\n",
    "\n",
    "def build_map(locations_df):\n",
    "\n",
    "\n",
    "    locations_df.reset_index(drop=False, inplace=True)\n",
    "    locations_df.rename(columns={'index': 'icon_num'}, inplace=True)\n",
    "    locations_df['icon_num'] = locations_df['icon_num'] + 1\n",
    "    long_mean = locations_df['Longitude'].mean()\n",
    "    lat_mean = locations_df['Latitude'].mean()\n",
    "\n",
    "    #Need list of lists of long lats\n",
    "    longitudes = [long for long in locations_df['Longitude']]\n",
    "    latitudes = [lat for lat in locations_df['Latitude']]\n",
    "\n",
    "    long_lats = [[latitudes[i], longitudes[i]] for i in range(0, len(longitudes))]\n",
    "    \n",
    "    map_plot_route = folium.Map(location = [lat_mean, long_mean], zoom_start = 5, tiles='CartoDB positron')\n",
    "\n",
    "    #Markers\n",
    "    locations_df.apply(lambda row: folium.Marker(location = [row['Latitude'], row['Longitude']],\n",
    "                                         popup=row['Name'],\n",
    "                                         icon=plugins.BeautifyIcon(number = row['icon_num'],\n",
    "                                                                  border_color='transparent',\n",
    "                                                                  border_width =0.5,\n",
    "                                                                  text_color=color_dict['color_red'],\n",
    "                                                                  inner_icon_style = 'font-size:20px;margin:0px;')).add_to(map_plot_route), axis=1)\n",
    "    \n",
    "    return map_plot_route\n",
    "\n",
    "\n"
   ]
  },
  {
   "cell_type": "code",
   "execution_count": 4,
   "metadata": {},
   "outputs": [
    {
     "data": {
      "text/plain": [
       "Watcher(inst=Button(button_type='primary', name='Map Points of Interest'), cls=<class 'panel.widgets.button.Button'>, fn=<function map_poi at 0x11c6e2440>, mode='args', onlychanged=True, parameter_names=('clicks',), what='value', queued=False)"
      ]
     },
     "execution_count": 4,
     "metadata": {},
     "output_type": "execute_result"
    }
   ],
   "source": [
    "#Holoviz assets and functions\n",
    "from holoviz_items.holoviz_assets import *\n",
    "\n",
    "#Global variables\n",
    "user_locations = []\n",
    "user_map = folium.Map(lat = 5, long = 5, zoom_start = 10)\n",
    "\n",
    "\n",
    "def query_address(event):\n",
    "    \n",
    "    #TODO: Handle more than one result from query\n",
    "    query_result = geolocator.geocode(text_input_dict['address_input'].value, exactly_one=False, language=\"en\")\n",
    "    if query_result:\n",
    "        text_input_dict['address_query_display'].value = geolocator.geocode(text_input_dict['address_input'].value, exactly_one=False, language=\"en\")[0].address\n",
    "    else:\n",
    "        text_input_dict['address_query_display'].value = 'None'\n",
    "\n",
    "def add_poi(event):\n",
    "\n",
    "    \n",
    "\n",
    "    if text_input_dict['address_query_display'].value not in strings_dict['all_addresses_display'].object:\n",
    "        if len(strings_dict['all_addresses_display'].object) > 0:\n",
    "            strings_dict['all_addresses_display'].object =  strings_dict['all_addresses_display'].object + '\\n' + text_input_dict['address_query_display'].value  \n",
    "        else:\n",
    "            strings_dict['all_addresses_display'].object = text_input_dict['address_query_display'].value\n",
    "  \n",
    "    globals()['user_locations'].append(text_input_dict['address_query_display'].value)\n",
    "    globals()['user_locations'] = list(set(globals()['user_locations']))\n",
    "    \n",
    "def map_poi(event):\n",
    "    component_names = [i.name for i in globals()['dashboard']]\n",
    "    map_index = component_names.index([i for i in component_names if 'Folium' in i][0])\n",
    "    markdown_status_index = component_names.index([i for i in component_names if 'Map Status Markdown' in i][0])\n",
    "    if globals()['user_locations']:\n",
    "        globals()['dashboard'][markdown_status_index].object = 'Generating map of Points of Interest...'\n",
    "        user_locations_df = build_locations_df(globals()['user_locations'])\n",
    "        map_plot_route = build_map(user_locations_df)\n",
    "        globals()['dashboard'][map_index] = map_plot_route\n",
    "        globals()['dashboard'][markdown_status_index].object = ''\n",
    "\n",
    "        \n",
    "#     query_result = geolocator.geocode(text_input_dict['address_input'].value, exactly_one=False, language=\"en\")\n",
    "#     if query_result:\n",
    "#         text_input_dict['address_query_display'].value = geolocator.geocode(text_input_dict['address_input'].value, exactly_one=False, language=\"en\")[0].address\n",
    "#     else:\n",
    "#         text_input_dict['address_query_display'].value = 'None'\n",
    "#Link assets with functions\n",
    "\n",
    "\n",
    "\n",
    "text_input_dict['address_input'].param.watch(query_address, 'value')\n",
    "button_dict['add_address'].param.watch(add_poi, 'clicks')\n",
    "button_dict['map_poi'].param.watch(map_poi, 'clicks')\n",
    "\n"
   ]
  },
  {
   "cell_type": "code",
   "execution_count": 5,
   "metadata": {},
   "outputs": [],
   "source": [
    "#Holoviz time\n",
    "\n",
    "\n",
    "dashboard = pn.Column(markdown_dict['overall_header'],\n",
    "                     markdown_dict['add_points'],\n",
    "                     text_input_dict['address_input'],\n",
    "                     pn.Row(pn.Column(text_input_dict['address_query_display'], button_dict['add_address']), pn.Column(strings_dict['current_poi'], strings_dict['all_addresses_display'])),\n",
    "                     markdown_dict['line_separator'],\n",
    "                     button_dict['map_poi'],\n",
    "                     markdown_dict['mapping_progress'],\n",
    "                     pn.panel(user_map)).servable()"
   ]
  },
  {
   "cell_type": "code",
   "execution_count": 6,
   "metadata": {},
   "outputs": [
    {
     "data": {
      "application/vnd.holoviews_exec.v0+json": "",
      "text/html": [
       "<div id='1001'>\n",
       "\n",
       "\n",
       "\n",
       "\n",
       "\n",
       "  <div class=\"bk-root\" id=\"c348e492-7a2e-4829-b6bb-211380c64b28\" data-root-id=\"1001\"></div>\n",
       "</div>\n",
       "<script type=\"application/javascript\">(function(root) {\n",
       "  function embed_document(root) {\n",
       "  var docs_json = {\"6e351d51-831f-4bb0-ad85-81f8fd42d833\":{\"roots\":{\"references\":[{\"attributes\":{\"margin\":[5,5,5,5],\"name\":\"Folium01466\",\"sizing_mode\":\"stretch_width\",\"text\":\"&lt;div style=&quot;width:100%;&quot;&gt;&lt;div style=&quot;position:relative;width:100%;height:0;padding-bottom:60%;&quot;&gt;&lt;span style=&quot;color:#565656&quot;&gt;Make this Notebook Trusted to load map: File -&gt; Trust Notebook&lt;/span&gt;&lt;iframe src=&quot;about:blank&quot; style=&quot;position:absolute;width:100%;height:100%;left:0;top:0;border:none !important;&quot; data-html=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 onload=&quot;this.contentDocument.open();this.contentDocument.write(atob(this.getAttribute(&#x27;data-html&#x27;)));this.contentDocument.close();&quot; allowfullscreen webkitallowfullscreen mozallowfullscreen&gt;&lt;/iframe&gt;&lt;/div&gt;&lt;/div&gt;\"},\"id\":\"1015\",\"type\":\"panel.models.markup.HTML\"},{\"attributes\":{\"children\":[{\"id\":\"1007\"},{\"id\":\"1008\"}],\"margin\":[0,0,0,0],\"name\":\"Column01463\"},\"id\":\"1006\",\"type\":\"Column\"},{\"attributes\":{\"css_classes\":[\"markdown\"],\"margin\":[5,5,5,5],\"name\":\"Markdown01450\",\"style\":{\"font-family\":\"Optimist\"},\"text\":\"&lt;hr&gt;\"},\"id\":\"1012\",\"type\":\"panel.models.markup.HTML\"},{\"attributes\":{\"margin\":[5,10,5,10],\"title\":\"Address: \",\"width_policy\":\"max\"},\"id\":\"1004\",\"type\":\"TextInput\"},{\"attributes\":{\"children\":[{\"id\":\"1010\"},{\"id\":\"1011\"}],\"margin\":[0,0,0,0],\"name\":\"Column01464\"},\"id\":\"1009\",\"type\":\"Column\"},{\"attributes\":{\"button_type\":\"primary\",\"icon\":null,\"label\":\"Map Points of Interest\",\"margin\":[5,10,5,10],\"subscribed_events\":[\"button_click\"]},\"id\":\"1013\",\"type\":\"Button\"},{\"attributes\":{\"css_classes\":[\"markdown\"],\"margin\":[5,5,5,5],\"name\":\"Map Status Markdown\",\"style\":{\"font-family\":\"Optimist\"}},\"id\":\"1014\",\"type\":\"panel.models.markup.HTML\"},{\"attributes\":{\"button_type\":\"success\",\"icon\":null,\"label\":\"Add Address to Points of Interest\",\"margin\":[5,10,5,10],\"subscribed_events\":[\"button_click\"]},\"id\":\"1008\",\"type\":\"Button\"},{\"attributes\":{\"children\":[{\"id\":\"1002\"},{\"id\":\"1003\"},{\"id\":\"1004\"},{\"id\":\"1005\"},{\"id\":\"1012\"},{\"id\":\"1013\"},{\"id\":\"1014\"},{\"id\":\"1015\"}],\"margin\":[0,0,0,0],\"name\":\"Column01468\"},\"id\":\"1001\",\"type\":\"Column\"},{\"attributes\":{\"children\":[{\"id\":\"1006\"},{\"id\":\"1009\"}],\"margin\":[0,0,0,0],\"name\":\"Row01465\"},\"id\":\"1005\",\"type\":\"Row\"},{\"attributes\":{\"margin\":[5,5,5,5],\"name\":\"Str01461\",\"sizing_mode\":\"stretch_both\",\"style\":{\"font-family\":\"Optimist\"},\"text\":\"&lt;pre&gt;&lt;/pre&gt;\"},\"id\":\"1011\",\"type\":\"panel.models.markup.HTML\"},{\"attributes\":{\"css_classes\":[\"markdown\"],\"margin\":[5,5,5,5],\"name\":\"Markdown01448\",\"style\":{\"font-family\":\"Optimist\"},\"text\":\"&lt;h2&gt;Add Points of Interest&lt;/h2&gt;\"},\"id\":\"1003\",\"type\":\"panel.models.markup.HTML\"},{\"attributes\":{\"client_comm_id\":\"424ccd55710440768fa5a458f7051c6d\",\"comm_id\":\"5407ac1389624a28a9950b729701f1a2\",\"plot_id\":\"1001\"},\"id\":\"1016\",\"type\":\"panel.models.comm_manager.CommManager\"},{\"attributes\":{\"disabled\":true,\"height\":100,\"margin\":[5,10,5,10],\"min_height\":100,\"title\":\"Address Found: \",\"width_policy\":\"max\"},\"id\":\"1007\",\"type\":\"TextInput\"},{\"attributes\":{\"margin\":[5,5,5,5],\"name\":\"Str01459\",\"style\":{\"font-family\":\"Optimist\"},\"text\":\"&lt;pre&gt;Current Points of Interest:&lt;/pre&gt;\"},\"id\":\"1010\",\"type\":\"panel.models.markup.HTML\"},{\"attributes\":{\"css_classes\":[\"markdown\"],\"margin\":[5,5,5,5],\"name\":\"Markdown01446\",\"style\":{\"font-family\":\"Optimist\"},\"text\":\"&lt;h1&gt;Navigation App&lt;/h1&gt;\"},\"id\":\"1002\",\"type\":\"panel.models.markup.HTML\"}],\"root_ids\":[\"1001\",\"1016\"]},\"title\":\"Bokeh Application\",\"version\":\"2.0.2\"}};\n",
       "  var render_items = [{\"docid\":\"6e351d51-831f-4bb0-ad85-81f8fd42d833\",\"root_ids\":[\"1001\"],\"roots\":{\"1001\":\"c348e492-7a2e-4829-b6bb-211380c64b28\"}}];\n",
       "  root.Bokeh.embed.embed_items_notebook(docs_json, render_items);\n",
       "  }\n",
       "if (root.Bokeh !== undefined) {\n",
       "    embed_document(root);\n",
       "  } else {\n",
       "    var attempts = 0;\n",
       "    var timer = setInterval(function(root) {\n",
       "      if (root.Bokeh !== undefined) {\n",
       "        clearInterval(timer);\n",
       "        embed_document(root);\n",
       "      } else if (document.readyState == \"complete\") {\n",
       "        attempts++;\n",
       "        if (attempts > 100) {\n",
       "          clearInterval(timer);\n",
       "          console.log(\"Bokeh: ERROR: Unable to run BokehJS code because BokehJS library is missing\");\n",
       "        }\n",
       "      }\n",
       "    }, 10, root)\n",
       "  }\n",
       "})(window);</script>"
      ],
      "text/plain": [
       "Column\n",
       "    [0] Markdown(str, style={'font-family': '...})\n",
       "    [1] Markdown(str, style={'font-family': '...})\n",
       "    [2] TextInput(name='Address: ', width_policy='max')\n",
       "    [3] Row\n",
       "        [0] Column\n",
       "            [0] TextInput(disabled=True, height=100, name='Address Found: ', width_policy='max')\n",
       "            [1] Button(button_type='success', name='Add Address t...)\n",
       "        [1] Column\n",
       "            [0] Str(str, style={'font-family': '...})\n",
       "            [1] Str(str, sizing_mode='stretch_both', style={'font-family': '...})\n",
       "    [4] Markdown(str, style={'font-family': '...})\n",
       "    [5] Button(button_type='primary', name='Map Points of Interest')\n",
       "    [6] Markdown(str, name='Map Status Markdown', style={'font-family': '...})\n",
       "    [7] Folium(Map)"
      ]
     },
     "execution_count": 6,
     "metadata": {
      "application/vnd.holoviews_exec.v0+json": {
       "id": "1001"
      }
     },
     "output_type": "execute_result"
    }
   ],
   "source": [
    "dashboard"
   ]
  },
  {
   "cell_type": "code",
   "execution_count": null,
   "metadata": {},
   "outputs": [],
   "source": [
    "\n",
    "\n",
    "\n"
   ]
  },
  {
   "cell_type": "code",
   "execution_count": null,
   "metadata": {},
   "outputs": [],
   "source": []
  },
  {
   "cell_type": "code",
   "execution_count": null,
   "metadata": {},
   "outputs": [],
   "source": []
  }
 ],
 "metadata": {
  "kernelspec": {
   "display_name": "Python 3",
   "language": "python",
   "name": "python3"
  },
  "language_info": {
   "codemirror_mode": {
    "name": "ipython",
    "version": 3
   },
   "file_extension": ".py",
   "mimetype": "text/x-python",
   "name": "python",
   "nbconvert_exporter": "python",
   "pygments_lexer": "ipython3",
   "version": "3.7.4"
  }
 },
 "nbformat": 4,
 "nbformat_minor": 4
}
